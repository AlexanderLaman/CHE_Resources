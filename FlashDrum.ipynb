{
  "nbformat": 4,
  "nbformat_minor": 0,
  "metadata": {
    "colab": {
      "provenance": []
    },
    "kernelspec": {
      "name": "python3",
      "display_name": "Python 3"
    },
    "language_info": {
      "name": "python"
    }
  },
  "cells": [
    {
      "cell_type": "code",
      "execution_count": 1,
      "metadata": {
        "colab": {
          "base_uri": "https://localhost:8080/"
        },
        "id": "H4nnqKFaXAnG",
        "outputId": "9be0f762-3b46-4ab7-efa3-eebe9bb542d2"
      },
      "outputs": [
        {
          "output_type": "stream",
          "name": "stdout",
          "text": [
            "Converged value of psi: 0.121883 after 4 iterations\n"
          ]
        }
      ],
      "source": [
        "import numpy as np\n",
        "\n",
        "def flash_drum_equation(psi, z, K):\n",
        "    \"\"\"\n",
        "    Flash drum material balance equation.\n",
        "\n",
        "    Parameters:\n",
        "        psi (float): Current guess for psi.\n",
        "        z (numpy.ndarray): Feed composition array.\n",
        "        K (numpy.ndarray): Equilibrium constant array.\n",
        "\n",
        "    Returns:\n",
        "        float: Value of the equation at psi.\n",
        "    \"\"\"\n",
        "    return np.sum(z * (K - 1) / (1 + psi * (K - 1)))\n",
        "\n",
        "def flash_drum_derivative(psi, z, K):\n",
        "    \"\"\"\n",
        "    Derivative of the flash drum equation with respect to psi.\n",
        "\n",
        "    Parameters:\n",
        "        psi (float): Current guess for psi.\n",
        "        z (numpy.ndarray): Feed composition array.\n",
        "        K (numpy.ndarray): Equilibrium constant array.\n",
        "\n",
        "    Returns:\n",
        "        float: Value of the derivative at psi.\n",
        "    \"\"\"\n",
        "    return -np.sum(z * (K - 1)**2 / (1 + psi * (K - 1))**2)\n",
        "\n",
        "def newton_raphson_flash(z, K, psi_initial=0.5, tol=1e-6, max_iter=100):\n",
        "    \"\"\"\n",
        "    Solve for psi using the Newton-Raphson method.\n",
        "\n",
        "    Parameters:\n",
        "        z (numpy.ndarray): Feed composition array.\n",
        "        K (numpy.ndarray): Equilibrium constant array.\n",
        "        psi_initial (float): Initial guess for psi.\n",
        "        tol (float): Tolerance for convergence.\n",
        "        max_iter (int): Maximum number of iterations.\n",
        "\n",
        "    Returns:\n",
        "        float: Converged value of psi.\n",
        "        int: Number of iterations used.\n",
        "    \"\"\"\n",
        "    psi = psi_initial\n",
        "\n",
        "    for iteration in range(max_iter):\n",
        "        f = flash_drum_equation(psi, z, K)\n",
        "        df = flash_drum_derivative(psi, z, K)\n",
        "\n",
        "        if abs(f) < tol:\n",
        "            return psi, iteration + 1\n",
        "\n",
        "        if df == 0:\n",
        "            raise ValueError(\"Derivative is zero. Newton-Raphson method fails.\")\n",
        "\n",
        "        psi -= f / df\n",
        "\n",
        "    raise ValueError(\"Newton-Raphson did not converge within the maximum number of iterations.\")\n",
        "\n",
        "# Example usage\n",
        "if __name__ == \"__main__\":\n",
        "    # Feed composition (z) and equilibrium constants (K)\n",
        "    z = np.array([0.1, 0.2, 0.3,0.4])  # Example feed composition\n",
        "    K = np.array([4.2, 1.75, 0.74,0.34])  # Example equilibrium constants\n",
        "\n",
        "    try:\n",
        "        psi, iterations = newton_raphson_flash(z, K)\n",
        "        print(f\"Converged value of psi: {psi:.6f} after {iterations} iterations\")\n",
        "    except ValueError as e:\n",
        "        print(e)"
      ]
    }
  ]
}